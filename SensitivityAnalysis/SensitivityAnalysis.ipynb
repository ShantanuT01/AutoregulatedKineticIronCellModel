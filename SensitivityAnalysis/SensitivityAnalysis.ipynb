{
 "cells": [
  {
   "attachments": {},
   "cell_type": "markdown",
   "metadata": {},
   "source": [
    "# Sensitivity Analysis - Sensitivity Scoring\n",
    "\n",
    "This notebook shows how sensitivity scores were calculated."
   ]
  },
  {
   "cell_type": "code",
   "execution_count": null,
   "metadata": {},
   "outputs": [],
   "source": [
    "import pandas as pd\n",
    "import numpy as np\n",
    "import matplotlib.pyplot as plt\n",
    "import matplotlib as mpl\n",
    "mpl.rcParams['figure.dpi']= 400\n",
    "\n",
    "from sensitivity.statesensitivity import StateSensitivity\n",
    "from sensitivity.constants import COMPONENTS"
   ]
  },
  {
   "attachments": {},
   "cell_type": "markdown",
   "metadata": {},
   "source": [
    "Once we obtained the steady state concentrations after multiplying each one of the regulatory functions separately by a scale factor, we can see how components react to different changes in rate constants. For example, for the W state we notice that $k_{23}$ does not seem to affect too many components."
   ]
  },
  {
   "cell_type": "code",
   "execution_count": null,
   "metadata": {},
   "outputs": [],
   "source": [
    "wsens = StateSensitivity(\"data/w_sensitivity.csv\",'W')\n",
    "# plot FC change with respective to k23\n",
    "fc_k23changes = wsens.rateConstants[\"k23\"].dataframe[\"FC\"].values\n",
    "factors = wsens.rateConstants[\"k23\"].dataframe[\"factor\"].values\n",
    "plt.plot(factors, fc_k23changes)\n",
    "plt.xlabel(\"Scale factor\")\n",
    "plt.ylabel(\"[FC] ($\\mu$M)\")\n",
    "plt.show()\n",
    "\n"
   ]
  },
  {
   "attachments": {},
   "cell_type": "markdown",
   "metadata": {},
   "source": [
    "In contrast, F2 is very sensitive with respect to $k_{23}$:"
   ]
  },
  {
   "cell_type": "code",
   "execution_count": null,
   "metadata": {},
   "outputs": [],
   "source": [
    "f2_k23changes = wsens.rateConstants[\"k23\"].dataframe[\"F2\"].values\n",
    "factors = wsens.rateConstants[\"k23\"].dataframe[\"factor\"].values\n",
    "plt.plot(factors, f2_k23changes)\n",
    "plt.xlabel(\"Scale factor\")\n",
    "plt.ylabel(\"[F2]($\\mu$M)\")\n",
    "plt.show()"
   ]
  },
  {
   "attachments": {},
   "cell_type": "markdown",
   "metadata": {},
   "source": [
    "Instead of using raw component concentrations, we can use percent changes in component concentrations from the baseline (where our scale factor is 1)."
   ]
  },
  {
   "cell_type": "code",
   "execution_count": null,
   "metadata": {},
   "outputs": [],
   "source": [
    "f2_pd = wsens.rateConstants[\"k23\"].getPercentDifference(\"F2\")\n",
    "plt.plot(factors, f2_pd)\n",
    "plt.xlabel(\"\"\"Scale Factor for $k_{23}$\"\"\")\n",
    "plt.ylabel(\"% Change from Baseline\")\n",
    "plt.show()"
   ]
  },
  {
   "attachments": {},
   "cell_type": "markdown",
   "metadata": {},
   "source": [
    "We defined the sensitivity between a component and a rate constant for one state as the approximated slope for the percent change function $G$ with increments of $j = 0.01$ where $h = 1$. The slope is then divided by the component concentration baseline $C_{i}$. \n",
    "\n",
    "$$\\text{Sensitivity for Rate Constant and Component}= s_{i} = \\frac{\\frac{G(h - 2j) - 8G(h-j) + 8G(h+j) + G(h+2j)}{12j}}{C_i}$$\n",
    "\n",
    "Doing that for $k_{23}$ and F2, we get:"
   ]
  },
  {
   "cell_type": "code",
   "execution_count": null,
   "metadata": {},
   "outputs": [],
   "source": [
    "k23frame = wsens.rateConstants[\"k23\"].dataframe\n",
    "\n",
    "# look between 1 - 2(0.01) and 1 + 2(0.01) -> [0.98, 1.02]\n",
    "targetFrame = k23frame[k23frame[\"factor\"].between(0.98,1.02)][[\"alteredRateConstant\", \"factor\", \"F2\"]]\n",
    "targetFrame"
   ]
  },
  {
   "cell_type": "code",
   "execution_count": null,
   "metadata": {},
   "outputs": [],
   "source": [
    "# convert to percent difference\n",
    "baseF2 = targetFrame.iloc[2].to_dict()[\"F2\"]\n",
    "G = (targetFrame[\"F2\"].values - baseF2)/baseF2 * 100\n",
    "slope = (G[0] - 8*G[1] + 8*G[3] + G[4])/(12 * 0.01)\n",
    "print(\"Sensitivity Score for F2 and k23 for W state is\", slope/baseF2)"
   ]
  },
  {
   "attachments": {},
   "cell_type": "markdown",
   "metadata": {},
   "source": [
    "We can verify this via the helper function that is implemented:"
   ]
  },
  {
   "cell_type": "code",
   "execution_count": null,
   "metadata": {},
   "outputs": [],
   "source": [
    "wsens.rateConstants[\"k23\"].getComponentSensitivity(\"F2\")"
   ]
  },
  {
   "attachments": {},
   "cell_type": "markdown",
   "metadata": {},
   "source": [
    "The total sensitivity for a rate constant for a state is the average absolute value of the sensitivity score across all components."
   ]
  },
  {
   "cell_type": "code",
   "execution_count": null,
   "metadata": {},
   "outputs": [],
   "source": [
    "compScoresk23W = dict()\n",
    "for component in COMPONENTS:\n",
    "    compScoresk23W[component] = abs(wsens.rateConstants[\"k23\"].getComponentSensitivity(component))\n",
    "k23df = pd.DataFrame({\"Component Sensitivity\": compScoresk23W})\n",
    "k23df"
   ]
  },
  {
   "attachments": {},
   "cell_type": "markdown",
   "metadata": {},
   "source": [
    "Thus, the average sensitivity score is:"
   ]
  },
  {
   "cell_type": "code",
   "execution_count": null,
   "metadata": {},
   "outputs": [],
   "source": [
    "k23df[\"Component Sensitivity\"].mean()"
   ]
  },
  {
   "attachments": {},
   "cell_type": "markdown",
   "metadata": {},
   "source": [
    "A helper function has been implemented to do this calculation:"
   ]
  },
  {
   "cell_type": "code",
   "execution_count": null,
   "metadata": {},
   "outputs": [],
   "source": [
    "wsens.rateConstants[\"k23\"].getOverallSensitivity()"
   ]
  },
  {
   "attachments": {},
   "cell_type": "markdown",
   "metadata": {},
   "source": [
    "Using our helper functions, we can find the individual rate constant sensitivities for all 3 states."
   ]
  },
  {
   "cell_type": "code",
   "execution_count": null,
   "metadata": {},
   "outputs": [],
   "source": [
    "dsens = StateSensitivity(\"data/d_sensitivity.csv\",'D')\n",
    "ysens = StateSensitivity(\"data/y_sensitivity.csv\",'Y')\n",
    "finalSensitivities = dict()\n",
    "finalSensitivities[\"W\"] = wsens.getRateConstantSensitivities()\n",
    "finalSensitivities[\"Y\"] = ysens.getRateConstantSensitivities()\n",
    "finalSensitivities[\"D\"] = dsens.getRateConstantSensitivities()\n",
    "pd.DataFrame(finalSensitivities)"
   ]
  }
 ],
 "metadata": {
  "kernelspec": {
   "display_name": "medmnistclassifier",
   "language": "python",
   "name": "python3"
  },
  "language_info": {
   "codemirror_mode": {
    "name": "ipython",
    "version": 3
   },
   "file_extension": ".py",
   "mimetype": "text/x-python",
   "name": "python",
   "nbconvert_exporter": "python",
   "pygments_lexer": "ipython3",
   "version": "3.9.16"
  },
  "orig_nbformat": 4
 },
 "nbformat": 4,
 "nbformat_minor": 2
}
