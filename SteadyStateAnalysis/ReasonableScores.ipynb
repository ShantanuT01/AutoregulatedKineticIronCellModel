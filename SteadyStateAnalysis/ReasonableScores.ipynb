{
 "cells": [
  {
   "attachments": {},
   "cell_type": "markdown",
   "metadata": {},
   "source": [
    "# Filtering - Reasonableness \n",
    "\n",
    "Once we have the top three cases selected from the smoothness filtering, we can try to filter using the reasonableness metrics we defined. "
   ]
  },
  {
   "cell_type": "code",
   "execution_count": 1,
   "metadata": {},
   "outputs": [],
   "source": [
    "from steadystate.crm import CellularRegulatoryMechanism as CRM\n",
    "import numpy as np\n",
    "import pandas as pd"
   ]
  },
  {
   "cell_type": "code",
   "execution_count": 2,
   "metadata": {},
   "outputs": [
    {
     "name": "stdout",
     "output_type": "stream",
     "text": [
      "1 (3.8467476215037593, 161.87496233907456)\n",
      "3 (4.501027238646617, 167.1450188209149)\n",
      "5 (4.595147520141462, 346.9316232349824)\n"
     ]
    }
   ],
   "source": [
    "casesLeft = [1, 3, 5]\n",
    "crms = []\n",
    "regulationFrame = pd.read_csv(\"data/crmdata.csv\")\n",
    "for case in casesLeft:\n",
    "    wyfilepath = f\"data/wy/case{case}.csv\"\n",
    "    wdfilepath = f\"data/wd/case{case}.csv\"\n",
    "    crms.append(CRM(case, regulationFrame.iloc[case - 1].to_dict(), wyfilepath, wdfilepath))\n",
    "def sortbyReasonableness(crm):\n",
    "    return crm.getReasonablenessScore(\"../AutomatedRegression/data/regressionresults/finalpool.csv\")\n",
    "crms.sort(key=sortbyReasonableness)\n",
    "for crm in crms:\n",
    "    print(crm.id, crm.getReasonablenessScore(\"../AutomatedRegression/data/regressionresults/finalpool.csv\"))"
   ]
  },
  {
   "attachments": {},
   "cell_type": "markdown",
   "metadata": {},
   "source": [
    "The first value in the pair is the sum of the SP-errors, while the second value is the sum of the n-errors. We can verify our calculations for CRM 1 by taking the n and SP values from the table for logistic functions."
   ]
  },
  {
   "cell_type": "code",
   "execution_count": 3,
   "metadata": {},
   "outputs": [
    {
     "data": {
      "text/plain": [
       "161.87702273789398"
      ]
     },
     "execution_count": 3,
     "metadata": {},
     "output_type": "execute_result"
    }
   ],
   "source": [
    "n = np.array([0.248768,-0.0387998,0.679725,-0.02203,-1.00162,0.0134783,0.0587368])\n",
    "t = 0\n",
    "for x in n:\n",
    "    if abs(x) >= 1:\n",
    "        t += abs(x) - 1\n",
    "    else:\n",
    "        t += abs(1/x) - 1\n",
    "t\n"
   ]
  },
  {
   "cell_type": "code",
   "execution_count": 5,
   "metadata": {},
   "outputs": [
    {
     "data": {
      "text/plain": [
       "3.8467476215037593"
      ]
     },
     "execution_count": 5,
     "metadata": {},
     "output_type": "execute_result"
    }
   ],
   "source": [
    "sp = np.array([15.105,0.991932,14.0134,0.991933,8.74028,258.284,224.854])\n",
    "# FC is [20,10,5]\n",
    "# FM is [100, 200, 50]\n",
    "# FS = [500,150,300]\n",
    "fs_mean = np.mean([500,150,300])\n",
    "fc_mean = np.mean([20,10,5])\n",
    "fm_mean = np.mean([100,200,50])\n",
    "componentmeans = [fc_mean, fm_mean, fc_mean, fs_mean, fc_mean, fs_mean, fm_mean]\n",
    "np.sum(np.abs(sp - componentmeans)/componentmeans)\n"
   ]
  }
 ],
 "metadata": {
  "kernelspec": {
   "display_name": "medmnistclassifier",
   "language": "python",
   "name": "python3"
  },
  "language_info": {
   "codemirror_mode": {
    "name": "ipython",
    "version": 3
   },
   "file_extension": ".py",
   "mimetype": "text/x-python",
   "name": "python",
   "nbconvert_exporter": "python",
   "pygments_lexer": "ipython3",
   "version": "3.9.16"
  },
  "orig_nbformat": 4
 },
 "nbformat": 4,
 "nbformat_minor": 2
}
