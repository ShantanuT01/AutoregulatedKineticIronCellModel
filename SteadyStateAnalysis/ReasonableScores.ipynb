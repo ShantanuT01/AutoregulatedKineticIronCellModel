{
 "cells": [
  {
   "attachments": {},
   "cell_type": "markdown",
   "metadata": {},
   "source": [
    "# Filtering - Reasonableness \n",
    "\n",
    "Once we have the top three cases selected from the smoothness filtering, we can try to filter using the reasonableness metrics we defined. "
   ]
  },
  {
   "cell_type": "code",
   "execution_count": 1,
   "metadata": {},
   "outputs": [],
   "source": [
    "from steadystate.crm import CellularRegulatoryMechanism as CRM\n",
    "import numpy as np\n",
    "import pandas as pd"
   ]
  },
  {
   "cell_type": "code",
   "execution_count": 3,
   "metadata": {},
   "outputs": [
    {
     "name": "stdout",
     "output_type": "stream",
     "text": [
      "1 92.34401065769106\n",
      "3 98.26834675667426\n",
      "5 278.14907145223657\n"
     ]
    }
   ],
   "source": [
    "casesLeft = [1, 3, 5]\n",
    "crms = []\n",
    "regulationFrame = pd.read_csv(\"data/crmdata.csv\")\n",
    "for case in casesLeft:\n",
    "    wyfilepath = f\"data/wy/case{case}.csv\"\n",
    "    wdfilepath = f\"data/wd/case{case}.csv\"\n",
    "    crms.append(CRM(case, regulationFrame.iloc[case - 1].to_dict(), wyfilepath, wdfilepath))\n",
    "def sortbyReasonableness(crm):\n",
    "    return crm.getReasonablenessScore(\"../AutomatedRegression/data/regressionresults/finalpool.csv\")\n",
    "crms.sort(key=sortbyReasonableness)\n",
    "for crm in crms:\n",
    "    print(crm.id, crm.getReasonablenessScore(\"../AutomatedRegression/data/regressionresults/finalpool.csv\"))"
   ]
  }
 ],
 "metadata": {
  "kernelspec": {
   "display_name": "medmnistclassifier",
   "language": "python",
   "name": "python3"
  },
  "language_info": {
   "codemirror_mode": {
    "name": "ipython",
    "version": 3
   },
   "file_extension": ".py",
   "mimetype": "text/x-python",
   "name": "python",
   "nbconvert_exporter": "python",
   "pygments_lexer": "ipython3",
   "version": "3.9.16"
  },
  "orig_nbformat": 4
 },
 "nbformat": 4,
 "nbformat_minor": 2
}
