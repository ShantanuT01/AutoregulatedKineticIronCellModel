{
 "cells": [
  {
   "attachments": {},
   "cell_type": "markdown",
   "metadata": {},
   "source": [
    "# Wandering Filter - Steady State\n",
    "\n",
    "The wandering filter is applied to both the time transitions and the steady state transitions. Since the steady state transitions are stored in a CSV file, we decided to use Python for easier data analysis rather than Wolfram. For this, we created our containers to interface with the data easily."
   ]
  },
  {
   "cell_type": "code",
   "execution_count": 16,
   "metadata": {},
   "outputs": [],
   "source": [
    "from steadystate.crm import CellularRegulatoryMechanism as CRM\n",
    "import numpy as np\n",
    "import pandas as pd"
   ]
  },
  {
   "attachments": {},
   "cell_type": "markdown",
   "metadata": {},
   "source": [
    "CRMS are identified by an unique set of sensed species and by an identification number (from 1 to 146)."
   ]
  },
  {
   "cell_type": "code",
   "execution_count": 17,
   "metadata": {},
   "outputs": [
    {
     "data": {
      "text/plain": [
       "{'ID': 1,\n",
       " 'k23': 'FC',\n",
       " 'kcia': 'FM',\n",
       " 'kvac': 'FC',\n",
       " 'kmit': 'FS',\n",
       " 'kcyt': 'FC',\n",
       " 'ko2': 'FS',\n",
       " 'kmp': 'FM'}"
      ]
     },
     "execution_count": 17,
     "metadata": {},
     "output_type": "execute_result"
    }
   ],
   "source": [
    "regulationFrame = pd.read_csv(\"data/crmdata.csv\")\n",
    "regulationFrame.iloc[0].to_dict()"
   ]
  },
  {
   "cell_type": "code",
   "execution_count": 21,
   "metadata": {},
   "outputs": [
    {
     "name": "stdout",
     "output_type": "stream",
     "text": [
      "[24.347554362100105, 558.5920426255648, 24.34708043295427, 557.2718348577141, 24.416849629534454, 557.701499182326, 108.11557544046626, 949.0979116408685, 316.5367002141888, 1110.6559766930059, 121.98050255493723, 955.7883842234332, 32.20697627741941, 391.23971979585315, 32.34068883871346, 32.15645416705437, 390.8059685069302, 32.23927588891783, 389.7097663055754, 391.0327272216864, 396.9965734787046, 130.37553551476535, 828.8605204812168, 307.2657135959561, 442.02293795434144, 307.1279395088544, 475.01440875141395, 307.2559061792214, 444.6647360640296, 307.3253199879245, 445.6307783451906, 759.9647108473707, 548.2812567367364, 24.588154759626114, 558.3101871885455, 24.557103425546494, 557.4935033832958, 56.90976590044662, 560.5961910107744, 203.99739577334623, 682.6620193432807, 122.67303216339441, 1025.8391270394015, 123.79222475102023, 1322.1442083923323, 237.66927592303256, 834.8297563307212, 85.46302925458922, 230.00889384160828, 922.0532473245357, 367.18118784062, 373.24631337786525, 210.39864990841983, 477.62262822544704, 213.8221439634954, 465.632649455753, 308.956862516397, 825.3610129294646, 308.7174165561991, 776.8692306705202, 308.93559475451826, 866.4760973780611, 658.0367847306188, 1000.6925826692769, 769.0926700949739, 1007.8761006354603, 22.404833638362945, 555.7929988219956, 22.38345201849399, 555.7367034809405, 22.475481172038005, 554.8923165527215, 57.41080570652428, 561.342015268125, 165.81441940540105, 701.6449021424576, 194.67987410913392, 668.5644328703598, 45.663259300426176, 900.5299009623079, 82.21268006124834, 929.2183473671433, 85.36785345724721, 949.7442869250667, 1314.4737999827516, 1315.7115987433453, 30.34855703114839, 388.85060241430085, 31.377282987229748, 30.34969424193999, 388.556607703807, 30.378164794686676, 387.5990577731864, 366.88762923111204, 373.0398029151598, 55.642963527783564, 701.6877972015312, 83.26756092620984, 88.26885408530488, 754.725133372183, 90.3078838529425, 758.8244617002808, 1116.3431098469814, 1134.353558641032, 306.7524444754833, 440.83223013778684, 306.57048717214246, 476.07500744307583, 306.64058763221846, 444.04918661209064, 306.815274924133, 443.96234716751735, 395.4241669539158, 501.115612388717, 429.34543040605826, 521.1567835872443, 411.8118733217507, 570.5060326343972, 424.5896731568589, 550.9294345620833, 893.7940622369648, 898.2547843040454, 23.285104798203648, 556.612213243345, 23.36615876138501, 555.3486798553374, 59.51022502661271, 562.9625065642128, 204.83660187979962, 679.8091326147479, 1338.8116395107584, 31.231124017160294, 389.6224260310722, 32.19075756339283, 31.254633460421253, 388.4342407818408, 367.751071436919, 373.9129365885686, 1113.546830303528, 307.62313521139674, 441.6599272669325, 307.3846434229868, 476.8331021247328, 307.7239257830511, 444.8870810881641, 906.1099732838686]\n"
     ]
    }
   ],
   "source": [
    "TOTAL_CASES = 146 # change this to how many cases you have\n",
    "WD_DATA_ROOT = \"data/wd/\"\n",
    "WY_DATA_ROOT = \"data/wy/\"\n",
    "crms = []\n",
    "wanderings = []\n",
    "for i in range(1, TOTAL_CASES + 1):\n",
    "    fileName = f\"case{i}.csv\"\n",
    "    dfile = WD_DATA_ROOT + fileName\n",
    "    yfile = WY_DATA_ROOT + fileName\n",
    "    crms.append(CRM(i, regulationFrame.iloc[i - 1].to_dict(), yfile, dfile))\n",
    "    wanderings.append(crms[-1].getWanderingScore())\n",
    "print(wanderings)"
   ]
  },
  {
   "attachments": {},
   "cell_type": "markdown",
   "metadata": {},
   "source": [
    "Once we have all our CRMs for both transitions, we can now rank them by their wandering score."
   ]
  },
  {
   "cell_type": "code",
   "execution_count": 19,
   "metadata": {},
   "outputs": [
    {
     "name": "stdout",
     "output_type": "stream",
     "text": [
      "Upper Bound Size: 73\n",
      "Case 69 22.38345201849399\n",
      "Case 67 22.404833638362945\n",
      "Case 71 22.475481172038005\n",
      "Case 123 23.285104798203648\n",
      "Case 125 23.36615876138501\n",
      "Case 3 24.34708043295427\n",
      "Case 1 24.347554362100105\n",
      "Case 5 24.416849629534454\n",
      "Case 36 24.557103425546494\n",
      "Case 34 24.588154759626114\n",
      "Case 87 30.34855703114839\n",
      "Case 90 30.34969424193999\n",
      "Case 92 30.378164794686676\n",
      "Case 132 31.231124017160294\n",
      "Case 135 31.254633460421253\n",
      "Case 89 31.377282987229748\n",
      "Case 16 32.15645416705437\n",
      "Case 134 32.19075756339283\n",
      "Case 13 32.20697627741941\n",
      "Case 18 32.23927588891783\n",
      "Case 15 32.34068883871346\n",
      "Case 79 45.663259300426176\n",
      "Case 96 55.642963527783564\n",
      "Case 38 56.90976590044662\n",
      "Case 73 57.41080570652428\n",
      "Case 127 59.51022502661271\n",
      "Case 81 82.21268006124834\n",
      "Case 98 83.26756092620984\n",
      "Case 83 85.36785345724721\n",
      "Case 48 85.46302925458922\n",
      "Case 99 88.26885408530488\n",
      "Case 101 90.3078838529425\n",
      "Case 7 108.11557544046626\n",
      "Case 11 121.98050255493723\n",
      "Case 42 122.67303216339441\n",
      "Case 44 123.79222475102023\n",
      "Case 22 130.37553551476535\n",
      "Case 75 165.81441940540105\n",
      "Case 77 194.67987410913392\n",
      "Case 40 203.99739577334623\n",
      "Case 129 204.83660187979962\n",
      "Case 53 210.39864990841983\n",
      "Case 55 213.8221439634954\n",
      "Case 49 230.00889384160828\n",
      "Case 46 237.66927592303256\n",
      "Case 107 306.57048717214246\n",
      "Case 109 306.64058763221846\n",
      "Case 105 306.7524444754833\n",
      "Case 111 306.815274924133\n",
      "Case 26 307.1279395088544\n",
      "Case 28 307.2559061792214\n",
      "Case 24 307.2657135959561\n",
      "Case 30 307.3253199879245\n",
      "Case 142 307.3846434229868\n",
      "Case 140 307.62313521139674\n",
      "Case 144 307.7239257830511\n",
      "Case 59 308.7174165561991\n",
      "Case 61 308.93559475451826\n",
      "Case 57 308.956862516397\n",
      "Case 9 316.5367002141888\n",
      "Case 94 366.88762923111204\n",
      "Case 51 367.18118784062\n",
      "Case 137 367.751071436919\n",
      "Case 95 373.0398029151598\n",
      "Case 52 373.24631337786525\n",
      "Case 138 373.9129365885686\n",
      "Case 93 387.5990577731864\n",
      "Case 136 388.4342407818408\n",
      "Case 91 388.556607703807\n",
      "Case 88 388.85060241430085\n",
      "Case 133 389.6224260310722\n",
      "Case 19 389.7097663055754\n",
      "Case 17 390.8059685069302\n"
     ]
    }
   ],
   "source": [
    "# define our own sorting function for a CRM\n",
    "def rankCRM(crm: CRM):\n",
    "    return crm.getWanderingScore()\n",
    "\n",
    "# perform an inplace sort\n",
    "crms.sort(key=rankCRM)\n",
    "\n",
    "# get 50th percentile and above cases\n",
    "quartile = int(np.ceil(146/2.0))\n",
    "print(\"Upper Bound Size:\", quartile)\n",
    "# verify results\n",
    "for crm in crms[:quartile]:\n",
    "    print(crm, crm.getWanderingScore())"
   ]
  },
  {
   "cell_type": "code",
   "execution_count": 20,
   "metadata": {},
   "outputs": [
    {
     "name": "stdout",
     "output_type": "stream",
     "text": [
      "{69,67,71,123,125,3,1,5,36,34,87,90,92,132,135,89,16,134,13,18,15,79,96,38,73,127,81,98,83,48,99,101,7,11,42,44,22,75,77,40,129,53,55,49,46,107,109,105,111,26,28,24,30,142,140,144,59,61,57,9,94,51,137,95,52,138,93,136,91,88,133,19,17}\n"
     ]
    }
   ],
   "source": [
    "targetCases = []\n",
    "for crm in crms:\n",
    "    targetCases.append(str(crm.id))\n",
    "print(\"{\" +\",\".join(targetCases) +\"}\")\n"
   ]
  }
 ],
 "metadata": {
  "kernelspec": {
   "display_name": "medmnistclassifier",
   "language": "python",
   "name": "python3"
  },
  "language_info": {
   "codemirror_mode": {
    "name": "ipython",
    "version": 3
   },
   "file_extension": ".py",
   "mimetype": "text/x-python",
   "name": "python",
   "nbconvert_exporter": "python",
   "pygments_lexer": "ipython3",
   "version": "3.9.16"
  },
  "orig_nbformat": 4
 },
 "nbformat": 4,
 "nbformat_minor": 2
}
