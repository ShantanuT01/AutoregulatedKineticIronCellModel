{
 "cells": [
  {
   "attachments": {},
   "cell_type": "markdown",
   "metadata": {},
   "source": [
    "# Smoothness Scores Filtering\n",
    "\n",
    "Smoothness scores are another metric used to filter down the remaining cases even further. We currently have 33 cases left to filter down now at this stage. "
   ]
  },
  {
   "cell_type": "code",
   "execution_count": 1,
   "metadata": {},
   "outputs": [],
   "source": [
    "from steadystate.crm import CellularRegulatoryMechanism as CRM\n",
    "import numpy as np\n",
    "import pandas as pd"
   ]
  },
  {
   "cell_type": "code",
   "execution_count": 2,
   "metadata": {},
   "outputs": [],
   "source": [
    "casesLeft =[1, 3, 5, 11, 13, 15, 16, 18, 22, 24, 26, 28, 30, 57, 59, 61, 79, 96, \\\n",
    "105, 107, 109, 111, 132, 140, 142, 144]\n",
    "crms = []\n",
    "regulationFrame = pd.read_csv(\"data/crmdata.csv\")\n",
    "for case in casesLeft:\n",
    "    wyfilepath = f\"data/wy/case{case}.csv\"\n",
    "    wdfilepath = f\"data/wd/case{case}.csv\"\n",
    "    crms.append(CRM(case, regulationFrame.iloc[0].to_dict(), wyfilepath, wdfilepath))\n",
    "\n"
   ]
  },
  {
   "cell_type": "code",
   "execution_count": 3,
   "metadata": {},
   "outputs": [
    {
     "name": "stdout",
     "output_type": "stream",
     "text": [
      "5 2355.341046991705\n",
      "3 2360.0744962633116\n",
      "1 2368.6706047928806\n",
      "18 2386.1958642874793\n",
      "16 2391.215886556497\n",
      "13 2400.3323969778803\n",
      "15 2412.5900559925813\n",
      "132 2442.0340573624158\n",
      "79 2649.0513139918367\n",
      "96 2723.6359213665946\n",
      "28 2952.323806196433\n",
      "30 2953.1819794645135\n",
      "24 2954.3535571295656\n"
     ]
    }
   ],
   "source": [
    "def sortBySmoothness(crm):\n",
    "    return crm.getSmoothnessScore()\n",
    "crms.sort(key=sortBySmoothness)\n",
    "for c in crms[0:int(np.ceil(len(crms)/2))]:\n",
    "    print(c.id, c.getSmoothnessScore())"
   ]
  },
  {
   "attachments": {},
   "cell_type": "markdown",
   "metadata": {},
   "source": [
    "## Clustering Demo\n",
    "\n",
    "For this particular example, we just selected the top 3 cases as after the 4th best case and above there is a sharp increase in the scores. The top 3 are fairly clustered together. However, if you had a substantial amount of cases, you could use clustering to determine the cutoff. "
   ]
  },
  {
   "cell_type": "code",
   "execution_count": 4,
   "metadata": {},
   "outputs": [
    {
     "data": {
      "text/plain": [
       "<matplotlib.collections.PathCollection at 0x1f92fda59d0>"
      ]
     },
     "execution_count": 4,
     "metadata": {},
     "output_type": "execute_result"
    },
    {
     "data": {
      "image/png": "[encoded data removed]",
      "text/plain": [
       "<Figure size 640x480 with 1 Axes>"
      ]
     },
     "metadata": {},
     "output_type": "display_data"
    }
   ],
   "source": [
    "from sklearn.cluster import MeanShift\n",
    "import matplotlib.pyplot as plt\n",
    "ms = MeanShift(bandwidth=None, bin_seeding=True)\n",
    "smoothnessScores = [crm.getSmoothnessScore() for crm in crms]\n",
    "caseIds = [crm.id for crm in crms]\n",
    "ms.fit(np.reshape(smoothnessScores, (-1,1)))\n",
    "plt.scatter(caseIds, smoothnessScores)\n"
   ]
  },
  {
   "cell_type": "code",
   "execution_count": 6,
   "metadata": {},
   "outputs": [
    {
     "name": "stdout",
     "output_type": "stream",
     "text": [
      "Estimated Clusters: 5\n",
      "Case 5: 2355.341046991705 belongs to cluster 1\n",
      "Case 3: 2360.0744962633116 belongs to cluster 1\n",
      "Case 1: 2368.6706047928806 belongs to cluster 1\n",
      "Case 18: 2386.1958642874793 belongs to cluster 1\n",
      "Case 16: 2391.215886556497 belongs to cluster 1\n",
      "Case 13: 2400.3323969778803 belongs to cluster 1\n",
      "Case 15: 2412.5900559925813 belongs to cluster 1\n",
      "Case 132: 2442.0340573624158 belongs to cluster 1\n",
      "Case 79: 2649.0513139918367 belongs to cluster 3\n",
      "Case 96: 2723.6359213665946 belongs to cluster 3\n",
      "Case 28: 2952.323806196433 belongs to cluster 0\n",
      "Case 30: 2953.1819794645135 belongs to cluster 0\n",
      "Case 24: 2954.3535571295656 belongs to cluster 0\n",
      "Case 26: 2959.028318786478 belongs to cluster 0\n",
      "Case 111: 3000.421099738939 belongs to cluster 0\n",
      "Case 105: 3002.245145572195 belongs to cluster 0\n",
      "Case 109: 3006.9065522262927 belongs to cluster 0\n",
      "Case 107: 3009.1417001806803 belongs to cluster 0\n",
      "Case 144: 3050.803517777016 belongs to cluster 0\n",
      "Case 140: 3055.735541883817 belongs to cluster 0\n",
      "Case 142: 3058.827538651906 belongs to cluster 0\n",
      "Case 11: 3134.897474767955 belongs to cluster 0\n",
      "Case 22: 3175.227722518094 belongs to cluster 0\n",
      "Case 59: 3627.383810997798 belongs to cluster 4\n",
      "Case 57: 3942.7717551982923 belongs to cluster 2\n",
      "Case 61: 3945.7090159242944 belongs to cluster 2\n"
     ]
    }
   ],
   "source": [
    "labels = ms.labels_\n",
    "clusterCenters = ms.cluster_centers_\n",
    "uniqueLabels = np.unique(labels)\n",
    "numOfClusters = len(uniqueLabels)\n",
    "print(\"Estimated Clusters:\", numOfClusters)\n",
    "for i in range(len(labels)):\n",
    "    print(f\"Case {crms[i].id}:\", crms[i].getSmoothnessScore(), \"belongs to cluster\",labels[i])"
   ]
  }
 ],
 "metadata": {
  "kernelspec": {
   "display_name": "medmnistclassifier",
   "language": "python",
   "name": "python3"
  },
  "language_info": {
   "codemirror_mode": {
    "name": "ipython",
    "version": 3
   },
   "file_extension": ".py",
   "mimetype": "text/x-python",
   "name": "python",
   "nbconvert_exporter": "python",
   "pygments_lexer": "ipython3",
   "version": "3.9.16"
  },
  "orig_nbformat": 4
 },
 "nbformat": 4,
 "nbformat_minor": 2
}
