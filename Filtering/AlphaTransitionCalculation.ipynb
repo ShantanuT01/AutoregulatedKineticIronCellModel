{
 "cells": [
  {
   "attachments": {},
   "cell_type": "markdown",
   "metadata": {},
   "source": [
    "# $\\alpha$ Cell Transition - Numerical Calculation\n",
    "\n",
    "Note that the growth rate of the cell varies only for the Y state - the W and D state share the same values. This same pattern can be seen for $k_{isu}$. Thus, if we transition between W to Y, we need a function that shows the relationship between changing $k_{isu}$ and $\\alpha$. Since $k_{isu}$ determines if the cell is in the healthy state or diseased state, we can make $\\alpha$ depend on $k_{isu}$. Thus, we can describe this as a linear relationship:\n",
    "\n",
    "$$ \\alpha_{W} = 0.003333$$\n",
    "$$ \\alpha_{Y} = 0.002$$\n",
    "$$ k_{isu(W)} = 6.666$$\n",
    "$$ k_{isu(Y)} = .6666$$\n",
    "\n",
    "$$\\alpha = m(k_{isu}) + b$$\n",
    "$$\\alpha = (\\frac{0.003333 - 0.002}{6.666 - 0.6666})k_{isu}  + \\frac{0.002(6.666) - 0.003333(0.6666)}{6.666 - 0.6666}$$\n",
    "$$\\alpha = 0.000222188885555k_{isu} + 0.00185188888889$$\n",
    "\n",
    "We can verify our resulting equation by substituting the original $k_{isu}$ values."
   ]
  },
  {
   "cell_type": "code",
   "execution_count": 1,
   "metadata": {},
   "outputs": [
    {
     "name": "stdout",
     "output_type": "stream",
     "text": [
      "0.0033329999999996297\n",
      "0.002000000000000963\n"
     ]
    }
   ],
   "source": [
    "def alpha(kisu):\n",
    "    return 0.000222188885555*kisu + 0.00185188888889 \n",
    "print(alpha(6.666))\n",
    "print(alpha(6.666/10))"
   ]
  }
 ],
 "metadata": {
  "kernelspec": {
   "display_name": "medmnistclassifier",
   "language": "python",
   "name": "python3"
  },
  "language_info": {
   "codemirror_mode": {
    "name": "ipython",
    "version": 3
   },
   "file_extension": ".py",
   "mimetype": "text/x-python",
   "name": "python",
   "nbconvert_exporter": "python",
   "pygments_lexer": "ipython3",
   "version": "3.9.16"
  },
  "orig_nbformat": 4
 },
 "nbformat": 4,
 "nbformat_minor": 2
}
